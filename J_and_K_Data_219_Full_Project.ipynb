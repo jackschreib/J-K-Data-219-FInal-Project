{
  "cells": [
    {
      "cell_type": "markdown",
      "metadata": {
        "id": "view-in-github",
        "colab_type": "text"
      },
      "source": [
        "<a href=\"https://colab.research.google.com/github/jackschreib/J-K-Data-219-FInal-Project/blob/main/J_and_K_Data_219_Full_Project.ipynb\" target=\"_parent\"><img src=\"https://colab.research.google.com/assets/colab-badge.svg\" alt=\"Open In Colab\"/></a>"
      ]
    },
    {
      "cell_type": "code",
      "execution_count": null,
      "metadata": {
        "id": "83oXtg2RjIpv"
      },
      "outputs": [],
      "source": [
        "import pandas as pd\n",
        "import numpy as np\n",
        "from sklearn.preprocessing import OneHotEncoder, StandardScaler\n",
        "from sklearn.feature_extraction.text import TfidfVectorizer\n",
        "from sklearn.compose import make_column_transformer\n",
        "from sklearn.pipeline import make_pipeline\n",
        "from sklearn.neighbors import KNeighborsRegressor\n",
        "from sklearn.neighbors import KNeighborsClassifier\n",
        "from sklearn.model_selection import cross_val_score\n",
        "from sklearn.metrics import mean_squared_error\n",
        "from itertools import combinations\n",
        "from sklearn.impute import SimpleImputer\n",
        "import matplotlib.pyplot as plt\n",
        "import plotly.express as px\n",
        "\n",
        "url = \"https://raw.githubusercontent.com/jackschreib/Project/main/CSV_Crime_Data_from_2020_to_Present.csv\"\n",
        "df = pd.read_csv(url)\n",
        "\n",
        "df_clean = df[['TIME OCC', 'AREA NAME', 'Premis Desc', 'Crm Cd Desc', 'Vict Age', 'Vict Sex']].dropna()\n",
        "\n",
        "value_counts = df_clean['Crm Cd Desc'].value_counts()\n",
        "rare = value_counts[value_counts < 2].index\n",
        "df_clean = df_clean[~df_clean['Crm Cd Desc'].isin(rare)]\n",
        "\n",
        "df_crime_clean = df_clean[(df_clean['Crm Cd Desc'] == 'BURGLARY') | (df_clean['Crm Cd Desc'] == 'ROBBERY') | (df_clean['Crm Cd Desc'] == 'TRESPASSING')]"
      ]
    },
    {
      "cell_type": "code",
      "execution_count": null,
      "metadata": {
        "colab": {
          "base_uri": "https://localhost:8080/",
          "height": 517
        },
        "id": "GsrV5EoXhuaB",
        "outputId": "8419a414-b99d-48dd-b75b-96a481b5ff45"
      },
      "outputs": [
        {
          "data": {
            "text/html": [
              "<html>\n",
              "<head><meta charset=\"utf-8\" /></head>\n",
              "<body>\n",
              "    <div>            <script src=\"https://cdnjs.cloudflare.com/ajax/libs/mathjax/2.7.5/MathJax.js?config=TeX-AMS-MML_SVG\"></script><script type=\"text/javascript\">if (window.MathJax && window.MathJax.Hub && window.MathJax.Hub.Config) {window.MathJax.Hub.Config({SVG: {font: \"STIX-Web\"}});}</script>                <script type=\"text/javascript\">window.PlotlyConfig = {MathJaxConfig: 'local'};</script>\n",
              "        <script charset=\"utf-8\" src=\"https://cdn.plot.ly/plotly-2.24.1.min.js\"></script>                <div id=\"eb4bc930-9b0c-427c-abd1-621d90838223\" class=\"plotly-graph-div\" style=\"height:500px; width:800px;\"></div>            <script type=\"text/javascript\">                                    window.PLOTLYENV=window.PLOTLYENV || {};                                    if (document.getElementById(\"eb4bc930-9b0c-427c-abd1-621d90838223\")) {                    Plotly.newPlot(                        \"eb4bc930-9b0c-427c-abd1-621d90838223\",                        [{\"alignmentgroup\":\"True\",\"hovertemplate\":\"color=ASSAULT WITH DEADLY WEAPON,...\\u003cbr\\u003eCrm Cd Desc=%{x}\\u003cbr\\u003eAverage Predicted Probability Percent=%{y}\\u003cextra\\u003e\\u003c\\u002fextra\\u003e\",\"legendgroup\":\"ASSAULT WITH DEADLY WEAPON,...\",\"marker\":{\"color\":\"blue\",\"pattern\":{\"shape\":\"\"}},\"name\":\"ASSAULT WITH DEADLY WEAPON,...\",\"offsetgroup\":\"ASSAULT WITH DEADLY WEAPON,...\",\"orientation\":\"v\",\"showlegend\":true,\"textposition\":\"auto\",\"x\":[\"ASSAULT WITH DEADLY WEAPON,...\"],\"xaxis\":\"x\",\"y\":[18.333164727702112],\"yaxis\":\"y\",\"type\":\"bar\"},{\"alignmentgroup\":\"True\",\"hovertemplate\":\"color=BATTERY - SIMPLE ASSAULT...\\u003cbr\\u003eCrm Cd Desc=%{x}\\u003cbr\\u003eAverage Predicted Probability Percent=%{y}\\u003cextra\\u003e\\u003c\\u002fextra\\u003e\",\"legendgroup\":\"BATTERY - SIMPLE ASSAULT...\",\"marker\":{\"color\":\"blue\",\"pattern\":{\"shape\":\"\"}},\"name\":\"BATTERY - SIMPLE ASSAULT...\",\"offsetgroup\":\"BATTERY - SIMPLE ASSAULT...\",\"orientation\":\"v\",\"showlegend\":true,\"textposition\":\"auto\",\"x\":[\"BATTERY - SIMPLE ASSAULT...\"],\"xaxis\":\"x\",\"y\":[24.303152925308645],\"yaxis\":\"y\",\"type\":\"bar\"},{\"alignmentgroup\":\"True\",\"hovertemplate\":\"color=BURGLARY\\u003cbr\\u003eCrm Cd Desc=%{x}\\u003cbr\\u003eAverage Predicted Probability Percent=%{y}\\u003cextra\\u003e\\u003c\\u002fextra\\u003e\",\"legendgroup\":\"BURGLARY\",\"marker\":{\"color\":\"blue\",\"pattern\":{\"shape\":\"\"}},\"name\":\"BURGLARY\",\"offsetgroup\":\"BURGLARY\",\"orientation\":\"v\",\"showlegend\":true,\"textposition\":\"auto\",\"x\":[\"BURGLARY\"],\"xaxis\":\"x\",\"y\":[17.38627550160162],\"yaxis\":\"y\",\"type\":\"bar\"},{\"alignmentgroup\":\"True\",\"hovertemplate\":\"color=BURGLARY FROM VEHICLE\\u003cbr\\u003eCrm Cd Desc=%{x}\\u003cbr\\u003eAverage Predicted Probability Percent=%{y}\\u003cextra\\u003e\\u003c\\u002fextra\\u003e\",\"legendgroup\":\"BURGLARY FROM VEHICLE\",\"marker\":{\"color\":\"blue\",\"pattern\":{\"shape\":\"\"}},\"name\":\"BURGLARY FROM VEHICLE\",\"offsetgroup\":\"BURGLARY FROM VEHICLE\",\"orientation\":\"v\",\"showlegend\":true,\"textposition\":\"auto\",\"x\":[\"BURGLARY FROM VEHICLE\"],\"xaxis\":\"x\",\"y\":[21.336705445963055],\"yaxis\":\"y\",\"type\":\"bar\"},{\"alignmentgroup\":\"True\",\"hovertemplate\":\"color=VANDALISM - FELONY ($400...\\u003cbr\\u003eCrm Cd Desc=%{x}\\u003cbr\\u003eAverage Predicted Probability Percent=%{y}\\u003cextra\\u003e\\u003c\\u002fextra\\u003e\",\"legendgroup\":\"VANDALISM - FELONY ($400...\",\"marker\":{\"color\":\"blue\",\"pattern\":{\"shape\":\"\"}},\"name\":\"VANDALISM - FELONY ($400...\",\"offsetgroup\":\"VANDALISM - FELONY ($400...\",\"orientation\":\"v\",\"showlegend\":true,\"textposition\":\"auto\",\"x\":[\"VANDALISM - FELONY ($400...\"],\"xaxis\":\"x\",\"y\":[18.64070139942687],\"yaxis\":\"y\",\"type\":\"bar\"}],                        {\"template\":{\"data\":{\"histogram2dcontour\":[{\"type\":\"histogram2dcontour\",\"colorbar\":{\"outlinewidth\":0,\"ticks\":\"\"},\"colorscale\":[[0.0,\"#0d0887\"],[0.1111111111111111,\"#46039f\"],[0.2222222222222222,\"#7201a8\"],[0.3333333333333333,\"#9c179e\"],[0.4444444444444444,\"#bd3786\"],[0.5555555555555556,\"#d8576b\"],[0.6666666666666666,\"#ed7953\"],[0.7777777777777778,\"#fb9f3a\"],[0.8888888888888888,\"#fdca26\"],[1.0,\"#f0f921\"]]}],\"choropleth\":[{\"type\":\"choropleth\",\"colorbar\":{\"outlinewidth\":0,\"ticks\":\"\"}}],\"histogram2d\":[{\"type\":\"histogram2d\",\"colorbar\":{\"outlinewidth\":0,\"ticks\":\"\"},\"colorscale\":[[0.0,\"#0d0887\"],[0.1111111111111111,\"#46039f\"],[0.2222222222222222,\"#7201a8\"],[0.3333333333333333,\"#9c179e\"],[0.4444444444444444,\"#bd3786\"],[0.5555555555555556,\"#d8576b\"],[0.6666666666666666,\"#ed7953\"],[0.7777777777777778,\"#fb9f3a\"],[0.8888888888888888,\"#fdca26\"],[1.0,\"#f0f921\"]]}],\"heatmap\":[{\"type\":\"heatmap\",\"colorbar\":{\"outlinewidth\":0,\"ticks\":\"\"},\"colorscale\":[[0.0,\"#0d0887\"],[0.1111111111111111,\"#46039f\"],[0.2222222222222222,\"#7201a8\"],[0.3333333333333333,\"#9c179e\"],[0.4444444444444444,\"#bd3786\"],[0.5555555555555556,\"#d8576b\"],[0.6666666666666666,\"#ed7953\"],[0.7777777777777778,\"#fb9f3a\"],[0.8888888888888888,\"#fdca26\"],[1.0,\"#f0f921\"]]}],\"heatmapgl\":[{\"type\":\"heatmapgl\",\"colorbar\":{\"outlinewidth\":0,\"ticks\":\"\"},\"colorscale\":[[0.0,\"#0d0887\"],[0.1111111111111111,\"#46039f\"],[0.2222222222222222,\"#7201a8\"],[0.3333333333333333,\"#9c179e\"],[0.4444444444444444,\"#bd3786\"],[0.5555555555555556,\"#d8576b\"],[0.6666666666666666,\"#ed7953\"],[0.7777777777777778,\"#fb9f3a\"],[0.8888888888888888,\"#fdca26\"],[1.0,\"#f0f921\"]]}],\"contourcarpet\":[{\"type\":\"contourcarpet\",\"colorbar\":{\"outlinewidth\":0,\"ticks\":\"\"}}],\"contour\":[{\"type\":\"contour\",\"colorbar\":{\"outlinewidth\":0,\"ticks\":\"\"},\"colorscale\":[[0.0,\"#0d0887\"],[0.1111111111111111,\"#46039f\"],[0.2222222222222222,\"#7201a8\"],[0.3333333333333333,\"#9c179e\"],[0.4444444444444444,\"#bd3786\"],[0.5555555555555556,\"#d8576b\"],[0.6666666666666666,\"#ed7953\"],[0.7777777777777778,\"#fb9f3a\"],[0.8888888888888888,\"#fdca26\"],[1.0,\"#f0f921\"]]}],\"surface\":[{\"type\":\"surface\",\"colorbar\":{\"outlinewidth\":0,\"ticks\":\"\"},\"colorscale\":[[0.0,\"#0d0887\"],[0.1111111111111111,\"#46039f\"],[0.2222222222222222,\"#7201a8\"],[0.3333333333333333,\"#9c179e\"],[0.4444444444444444,\"#bd3786\"],[0.5555555555555556,\"#d8576b\"],[0.6666666666666666,\"#ed7953\"],[0.7777777777777778,\"#fb9f3a\"],[0.8888888888888888,\"#fdca26\"],[1.0,\"#f0f921\"]]}],\"mesh3d\":[{\"type\":\"mesh3d\",\"colorbar\":{\"outlinewidth\":0,\"ticks\":\"\"}}],\"scatter\":[{\"fillpattern\":{\"fillmode\":\"overlay\",\"size\":10,\"solidity\":0.2},\"type\":\"scatter\"}],\"parcoords\":[{\"type\":\"parcoords\",\"line\":{\"colorbar\":{\"outlinewidth\":0,\"ticks\":\"\"}}}],\"scatterpolargl\":[{\"type\":\"scatterpolargl\",\"marker\":{\"colorbar\":{\"outlinewidth\":0,\"ticks\":\"\"}}}],\"bar\":[{\"error_x\":{\"color\":\"#2a3f5f\"},\"error_y\":{\"color\":\"#2a3f5f\"},\"marker\":{\"line\":{\"color\":\"#E5ECF6\",\"width\":0.5},\"pattern\":{\"fillmode\":\"overlay\",\"size\":10,\"solidity\":0.2}},\"type\":\"bar\"}],\"scattergeo\":[{\"type\":\"scattergeo\",\"marker\":{\"colorbar\":{\"outlinewidth\":0,\"ticks\":\"\"}}}],\"scatterpolar\":[{\"type\":\"scatterpolar\",\"marker\":{\"colorbar\":{\"outlinewidth\":0,\"ticks\":\"\"}}}],\"histogram\":[{\"marker\":{\"pattern\":{\"fillmode\":\"overlay\",\"size\":10,\"solidity\":0.2}},\"type\":\"histogram\"}],\"scattergl\":[{\"type\":\"scattergl\",\"marker\":{\"colorbar\":{\"outlinewidth\":0,\"ticks\":\"\"}}}],\"scatter3d\":[{\"type\":\"scatter3d\",\"line\":{\"colorbar\":{\"outlinewidth\":0,\"ticks\":\"\"}},\"marker\":{\"colorbar\":{\"outlinewidth\":0,\"ticks\":\"\"}}}],\"scattermapbox\":[{\"type\":\"scattermapbox\",\"marker\":{\"colorbar\":{\"outlinewidth\":0,\"ticks\":\"\"}}}],\"scatterternary\":[{\"type\":\"scatterternary\",\"marker\":{\"colorbar\":{\"outlinewidth\":0,\"ticks\":\"\"}}}],\"scattercarpet\":[{\"type\":\"scattercarpet\",\"marker\":{\"colorbar\":{\"outlinewidth\":0,\"ticks\":\"\"}}}],\"carpet\":[{\"aaxis\":{\"endlinecolor\":\"#2a3f5f\",\"gridcolor\":\"white\",\"linecolor\":\"white\",\"minorgridcolor\":\"white\",\"startlinecolor\":\"#2a3f5f\"},\"baxis\":{\"endlinecolor\":\"#2a3f5f\",\"gridcolor\":\"white\",\"linecolor\":\"white\",\"minorgridcolor\":\"white\",\"startlinecolor\":\"#2a3f5f\"},\"type\":\"carpet\"}],\"table\":[{\"cells\":{\"fill\":{\"color\":\"#EBF0F8\"},\"line\":{\"color\":\"white\"}},\"header\":{\"fill\":{\"color\":\"#C8D4E3\"},\"line\":{\"color\":\"white\"}},\"type\":\"table\"}],\"barpolar\":[{\"marker\":{\"line\":{\"color\":\"#E5ECF6\",\"width\":0.5},\"pattern\":{\"fillmode\":\"overlay\",\"size\":10,\"solidity\":0.2}},\"type\":\"barpolar\"}],\"pie\":[{\"automargin\":true,\"type\":\"pie\"}]},\"layout\":{\"autotypenumbers\":\"strict\",\"colorway\":[\"#636efa\",\"#EF553B\",\"#00cc96\",\"#ab63fa\",\"#FFA15A\",\"#19d3f3\",\"#FF6692\",\"#B6E880\",\"#FF97FF\",\"#FECB52\"],\"font\":{\"color\":\"#2a3f5f\"},\"hovermode\":\"closest\",\"hoverlabel\":{\"align\":\"left\"},\"paper_bgcolor\":\"white\",\"plot_bgcolor\":\"#E5ECF6\",\"polar\":{\"bgcolor\":\"#E5ECF6\",\"angularaxis\":{\"gridcolor\":\"white\",\"linecolor\":\"white\",\"ticks\":\"\"},\"radialaxis\":{\"gridcolor\":\"white\",\"linecolor\":\"white\",\"ticks\":\"\"}},\"ternary\":{\"bgcolor\":\"#E5ECF6\",\"aaxis\":{\"gridcolor\":\"white\",\"linecolor\":\"white\",\"ticks\":\"\"},\"baxis\":{\"gridcolor\":\"white\",\"linecolor\":\"white\",\"ticks\":\"\"},\"caxis\":{\"gridcolor\":\"white\",\"linecolor\":\"white\",\"ticks\":\"\"}},\"coloraxis\":{\"colorbar\":{\"outlinewidth\":0,\"ticks\":\"\"}},\"colorscale\":{\"sequential\":[[0.0,\"#0d0887\"],[0.1111111111111111,\"#46039f\"],[0.2222222222222222,\"#7201a8\"],[0.3333333333333333,\"#9c179e\"],[0.4444444444444444,\"#bd3786\"],[0.5555555555555556,\"#d8576b\"],[0.6666666666666666,\"#ed7953\"],[0.7777777777777778,\"#fb9f3a\"],[0.8888888888888888,\"#fdca26\"],[1.0,\"#f0f921\"]],\"sequentialminus\":[[0.0,\"#0d0887\"],[0.1111111111111111,\"#46039f\"],[0.2222222222222222,\"#7201a8\"],[0.3333333333333333,\"#9c179e\"],[0.4444444444444444,\"#bd3786\"],[0.5555555555555556,\"#d8576b\"],[0.6666666666666666,\"#ed7953\"],[0.7777777777777778,\"#fb9f3a\"],[0.8888888888888888,\"#fdca26\"],[1.0,\"#f0f921\"]],\"diverging\":[[0,\"#8e0152\"],[0.1,\"#c51b7d\"],[0.2,\"#de77ae\"],[0.3,\"#f1b6da\"],[0.4,\"#fde0ef\"],[0.5,\"#f7f7f7\"],[0.6,\"#e6f5d0\"],[0.7,\"#b8e186\"],[0.8,\"#7fbc41\"],[0.9,\"#4d9221\"],[1,\"#276419\"]]},\"xaxis\":{\"gridcolor\":\"white\",\"linecolor\":\"white\",\"ticks\":\"\",\"title\":{\"standoff\":15},\"zerolinecolor\":\"white\",\"automargin\":true,\"zerolinewidth\":2},\"yaxis\":{\"gridcolor\":\"white\",\"linecolor\":\"white\",\"ticks\":\"\",\"title\":{\"standoff\":15},\"zerolinecolor\":\"white\",\"automargin\":true,\"zerolinewidth\":2},\"scene\":{\"xaxis\":{\"backgroundcolor\":\"#E5ECF6\",\"gridcolor\":\"white\",\"linecolor\":\"white\",\"showbackground\":true,\"ticks\":\"\",\"zerolinecolor\":\"white\",\"gridwidth\":2},\"yaxis\":{\"backgroundcolor\":\"#E5ECF6\",\"gridcolor\":\"white\",\"linecolor\":\"white\",\"showbackground\":true,\"ticks\":\"\",\"zerolinecolor\":\"white\",\"gridwidth\":2},\"zaxis\":{\"backgroundcolor\":\"#E5ECF6\",\"gridcolor\":\"white\",\"linecolor\":\"white\",\"showbackground\":true,\"ticks\":\"\",\"zerolinecolor\":\"white\",\"gridwidth\":2}},\"shapedefaults\":{\"line\":{\"color\":\"#2a3f5f\"}},\"annotationdefaults\":{\"arrowcolor\":\"#2a3f5f\",\"arrowhead\":0,\"arrowwidth\":1},\"geo\":{\"bgcolor\":\"white\",\"landcolor\":\"#E5ECF6\",\"subunitcolor\":\"white\",\"showland\":true,\"showlakes\":true,\"lakecolor\":\"white\"},\"title\":{\"x\":0.05},\"mapbox\":{\"style\":\"light\"}}},\"xaxis\":{\"anchor\":\"y\",\"domain\":[0.0,1.0],\"title\":{\"text\":\"Crm Cd Desc\"},\"tickangle\":45},\"yaxis\":{\"anchor\":\"x\",\"domain\":[0.0,1.0],\"title\":{\"text\":\"Average Predicted Probability Percent\"}},\"legend\":{\"title\":{\"text\":\"color\"},\"tracegroupgap\":0},\"title\":{\"text\":\"Average Predicted Probabilities for Each Crime\"},\"barmode\":\"relative\",\"height\":500,\"width\":800},                        {\"responsive\": true}                    ).then(function(){\n",
              "                            \n",
              "var gd = document.getElementById('eb4bc930-9b0c-427c-abd1-621d90838223');\n",
              "var x = new MutationObserver(function (mutations, observer) {{\n",
              "        var display = window.getComputedStyle(gd).display;\n",
              "        if (!display || display === 'none') {{\n",
              "            console.log([gd, 'removed!']);\n",
              "            Plotly.purge(gd);\n",
              "            observer.disconnect();\n",
              "        }}\n",
              "}});\n",
              "\n",
              "// Listen for the removal of the full notebook cells\n",
              "var notebookContainer = gd.closest('#notebook-container');\n",
              "if (notebookContainer) {{\n",
              "    x.observe(notebookContainer, {childList: true});\n",
              "}}\n",
              "\n",
              "// Listen for the clearing of the current output cell\n",
              "var outputEl = gd.closest('.output');\n",
              "if (outputEl) {{\n",
              "    x.observe(outputEl, {childList: true});\n",
              "}}\n",
              "\n",
              "                        })                };                            </script>        </div>\n",
              "</body>\n",
              "</html>"
            ]
          },
          "metadata": {},
          "output_type": "display_data"
        }
      ],
      "source": [
        "top = df_clean['Crm Cd Desc'].value_counts().head(5).index\n",
        "df_sub = df_clean[df_clean['Crm Cd Desc'].isin(top)]\n",
        "\n",
        "X_train_sub = df_sub[['TIME OCC', 'AREA NAME', 'Premis Desc', 'Vict Age', 'Vict Sex']]\n",
        "y_train_sub = df_sub['Crm Cd Desc']\n",
        "\n",
        "col_transformer = make_column_transformer(\n",
        "    (StandardScaler(), ['Vict Age']),\n",
        "    (OneHotEncoder(handle_unknown='ignore'), ['AREA NAME', 'Premis Desc', 'Vict Sex']),\n",
        "    remainder='passthrough')\n",
        "\n",
        "pipeline = make_pipeline(col_transformer, KNeighborsClassifier(n_neighbors=10))\n",
        "\n",
        "scores = cross_val_score(pipeline, X_train_sub, y_train_sub, cv=10, scoring='accuracy')\n",
        "pipeline.fit(X_train_sub, y_train_sub)\n",
        "\n",
        "predicted_probs = pipeline.predict_proba(X_train_sub)\n",
        "predicted_probs_df = pd.DataFrame(predicted_probs, columns=pipeline.classes_)\n",
        "\n",
        "average_probs = predicted_probs_df.mean()\n",
        "\n",
        "labels = [' '.join(label.split()[:4]) + ('...' if len(label.split()) > 3 else '') for label in average_probs.index]\n",
        "\n",
        "chart = px.bar(x=labels, y=average_probs.values * 100,\n",
        "             labels={'x': 'Crm Cd Desc', 'y': 'Average Predicted Probability Percent'},\n",
        "             title='Average Predicted Probabilities for Each Crime',\n",
        "             color=labels,\n",
        "             color_discrete_sequence=['blue']*len(average_probs),\n",
        "             width=800, height=500)\n",
        "\n",
        "chart.update_layout(xaxis_tickangle=45,\n",
        "                  yaxis=dict(title='Average Predicted Probability Percent'),\n",
        "                  xaxis=dict(title='Crm Cd Desc'))\n",
        "\n",
        "chart.show()"
      ]
    },
    {
      "cell_type": "code",
      "execution_count": null,
      "metadata": {
        "colab": {
          "base_uri": "https://localhost:8080/"
        },
        "id": "lXPo2oCO6QgZ",
        "outputId": "ac4424a9-575e-4159-9012-c32c061e7d28"
      },
      "outputs": [
        {
          "output_type": "stream",
          "name": "stdout",
          "text": [
            "euclidean 0.0813447534141527\n",
            "manhattan 0.08368523484761674\n",
            "minkowski 0.0813447534141527\n",
            "cosine 0.12438946104749107\n"
          ]
        }
      ],
      "source": [
        "X_train = df_clean[['TIME OCC', 'Crm Cd Desc', 'Premis Desc', 'Vict Age', 'Vict Sex']]\n",
        "y_train = df_clean['AREA NAME']\n",
        "\n",
        "col_transformer = make_column_transformer(\n",
        "    (StandardScaler(), ['Vict Age']),\n",
        "    (OneHotEncoder(handle_unknown='ignore'), ['Crm Cd Desc', 'Premis Desc', 'Vict Sex']),\n",
        "    remainder='passthrough')\n",
        "\n",
        "distances = ['euclidean','manhattan','minkowski','cosine']\n",
        "for distance in distances:\n",
        "  pipeline = make_pipeline(\n",
        "    col_transformer,\n",
        "    KNeighborsClassifier(n_neighbors=20, metric = distance)\n",
        ")\n",
        "\n",
        "  scores = cross_val_score(\n",
        "    pipeline,\n",
        "    X=X_train,\n",
        "    y=y_train,\n",
        "    cv=10,\n",
        "    scoring=\"accuracy\"\n",
        ")\n",
        "\n",
        "  print(distance, scores.mean())"
      ]
    },
    {
      "cell_type": "code",
      "source": [
        "def estimate_test_error(k):\n",
        "  pipeline_knn = make_pipeline(\n",
        "    col_transformer,\n",
        "    KNeighborsClassifier(n_neighbors=k, metric = \"cosine\")\n",
        "    )\n",
        "  return cross_val_score(\n",
        "      pipeline_knn,\n",
        "      X=X_train,\n",
        "      y=y_train,\n",
        "      cv=10,\n",
        "      scoring=\"accuracy\"\n",
        "  ).mean()\n",
        "\n",
        "test_errors = pd.Series([])\n",
        "for x in range(1, 21):\n",
        "  error = estimate_test_error(x)\n",
        "  test_errors[x] = error\n",
        "ideal_k = test_errors.idxmin()\n",
        "ideal_k"
      ],
      "metadata": {
        "id": "NoFEm_ZaTXMJ"
      },
      "execution_count": null,
      "outputs": []
    },
    {
      "cell_type": "code",
      "source": [
        "pipeline = make_pipeline(\n",
        "  col_transformer,\n",
        "  KNeighborsClassifier(n_neighbors=ideal_k, metric=\"cosine\"))\n",
        "\n",
        "scores = cross_val_score(\n",
        "  pipeline,\n",
        "  X = X_train,\n",
        "  y = y_train,\n",
        "  scoring=\"accuracy\",\n",
        "  cv=10\n",
        ")\n",
        "\n",
        "scores.mean()\n",
        "\n",
        "fold_numbers = range(1, len(scores) + 1)\n",
        "df_scores = pd.DataFrame({'Fold': fold_numbers, 'Accuracy': scores})\n",
        "\n",
        "fig = px.bar(df_scores, x='Fold', y='Accuracy',\n",
        "             title='Accuracy Scores for Each Fold of Cross-Validation',\n",
        "             labels={'Fold': 'Fold Number', 'Accuracy': 'Accuracy Score'})\n",
        "\n",
        "fig.show()"
      ],
      "metadata": {
        "id": "FnZDEuwXTZyO"
      },
      "execution_count": null,
      "outputs": []
    },
    {
      "cell_type": "code",
      "execution_count": null,
      "metadata": {
        "colab": {
          "base_uri": "https://localhost:8080/"
        },
        "id": "nHUATOrYKlWg",
        "outputId": "bfeb9254-032c-4cdb-9e81-8d585271726c"
      },
      "outputs": [
        {
          "output_type": "stream",
          "name": "stdout",
          "text": [
            "euclidean 0.06974405622027681\n",
            "manhattan 0.06974405622027681\n",
            "minkowski 0.06974405622027681\n",
            "cosine 0.07195732413907104\n"
          ]
        }
      ],
      "source": [
        "X_train = df_clean[['Vict Age', 'Vict Sex']]\n",
        "y_train = df_clean['AREA NAME']\n",
        "\n",
        "col_transformer = make_column_transformer(\n",
        "    (StandardScaler(), ['Vict Age']),\n",
        "    (OneHotEncoder(handle_unknown='ignore'), ['Vict Sex']),\n",
        "    remainder='passthrough')\n",
        "\n",
        "distances = ['euclidean','manhattan','minkowski','cosine']\n",
        "for distance in distances:\n",
        "  pipeline = make_pipeline(\n",
        "    col_transformer,\n",
        "    KNeighborsClassifier(n_neighbors=20, metric = distance)\n",
        ")\n",
        "\n",
        "  scores = cross_val_score(\n",
        "    pipeline,\n",
        "    X=X_train,\n",
        "    y=y_train,\n",
        "    cv=10,\n",
        "    scoring=\"accuracy\"\n",
        ")\n",
        "\n",
        "  print(distance, scores.mean())"
      ]
    },
    {
      "cell_type": "code",
      "source": [
        "def estimate_test_error(k):\n",
        "  pipeline_knn = make_pipeline(\n",
        "    col_transformer,\n",
        "    KNeighborsClassifier(n_neighbors=k, metric = \"cosine\")\n",
        "    )\n",
        "  return cross_val_score(\n",
        "      pipeline_knn,\n",
        "      X=X_train,\n",
        "      y=y_train,\n",
        "      cv=10,\n",
        "      scoring=\"accuracy\"\n",
        "  ).mean()\n",
        "\n",
        "test_errors = pd.Series([])\n",
        "for x in range(1, 41):\n",
        "  error = estimate_test_error(x)\n",
        "  test_errors[x] = error\n",
        "ideal_k = test_errors.idxmin()\n",
        "ideal_k"
      ],
      "metadata": {
        "id": "TgMCUdACaDdY"
      },
      "execution_count": null,
      "outputs": []
    },
    {
      "cell_type": "code",
      "source": [
        "pipeline = make_pipeline(\n",
        "  col_transformer,\n",
        "  KNeighborsClassifier(n_neighbors=ideal_k, metric=\"cosine\"))\n",
        "\n",
        "\n",
        "scores = cross_val_score(\n",
        "  pipeline,\n",
        "  X = X_train,\n",
        "  y = y_train,\n",
        "  scoring=\"accuracy\",\n",
        "  cv=10\n",
        ")\n",
        "\n",
        "scores.mean()\n",
        "\n",
        "fold_numbers = range(1, len(scores) + 1)\n",
        "df_scores = pd.DataFrame({'Fold': fold_numbers, 'Accuracy': scores})\n",
        "\n",
        "fig = px.bar(df_scores, x='Fold', y='Accuracy',\n",
        "             title='Accuracy Scores for Each Fold of Cross-Validation',\n",
        "             labels={'Fold': 'Fold Number', 'Accuracy': 'Accuracy Score'})\n",
        "\n",
        "fig.show()"
      ],
      "metadata": {
        "id": "tyZW8nDwaCTl"
      },
      "execution_count": null,
      "outputs": []
    },
    {
      "cell_type": "code",
      "execution_count": null,
      "metadata": {
        "colab": {
          "base_uri": "https://localhost:8080/"
        },
        "id": "kDnVnWSdK9MP",
        "outputId": "3284f668-4fec-4a8a-c195-bf5a983f2bea"
      },
      "outputs": [
        {
          "output_type": "stream",
          "name": "stdout",
          "text": [
            "euclidean 0.10930323134494921\n",
            "manhattan 0.10930323134494921\n",
            "minkowski 0.10930323134494921\n",
            "cosine 0.11194919543139378\n"
          ]
        }
      ],
      "source": [
        "X_train = df_clean[['Crm Cd Desc', 'Premis Desc']]\n",
        "y_train = df_clean['AREA NAME']\n",
        "\n",
        "col_transformer = make_column_transformer(\n",
        "    (OneHotEncoder(handle_unknown='ignore'), ['Crm Cd Desc', 'Premis Desc']),\n",
        "    remainder='passthrough')\n",
        "\n",
        "distances = ['euclidean','manhattan','minkowski','cosine']\n",
        "for distance in distances:\n",
        "  pipeline = make_pipeline(\n",
        "    col_transformer,\n",
        "    KNeighborsClassifier(n_neighbors=20, metric = distance)\n",
        ")\n",
        "\n",
        "  scores = cross_val_score(\n",
        "    pipeline,\n",
        "    X=X_train,\n",
        "    y=y_train,\n",
        "    cv=10,\n",
        "    scoring=\"accuracy\"\n",
        ")\n",
        "\n",
        "  print(distance, scores.mean())\n"
      ]
    },
    {
      "cell_type": "code",
      "source": [
        "def estimate_test_error(k):\n",
        "  pipeline_knn = make_pipeline(\n",
        "    col_transformer,\n",
        "    KNeighborsClassifier(n_neighbors=k, metric = \"cosine\")\n",
        "    )\n",
        "  return cross_val_score(\n",
        "      pipeline_knn,\n",
        "      X=X_train,\n",
        "      y=y_train,\n",
        "      cv=10,\n",
        "      scoring=\"accuracy\"\n",
        "  ).mean()\n",
        "\n",
        "test_errors = pd.Series([])\n",
        "for x in range(1, 41):\n",
        "  error = estimate_test_error(x)\n",
        "  test_errors[x] = error\n",
        "ideal_k = test_errors.idxmin()\n",
        "ideal_k"
      ],
      "metadata": {
        "id": "aAt5GxTjc1VP"
      },
      "execution_count": null,
      "outputs": []
    },
    {
      "cell_type": "code",
      "source": [
        "pipeline = make_pipeline(\n",
        "  col_transformer,\n",
        "  KNeighborsClassifier(n_neighbors=10, metric=\"cosine\"))\n",
        "\n",
        "\n",
        "scores = cross_val_score(\n",
        "  pipeline,\n",
        "  X = X_train,\n",
        "  y = y_train,\n",
        "  scoring=\"accuracy\",\n",
        "  cv=10\n",
        ")\n",
        "\n",
        "scores.mean()\n",
        "\n",
        "fold_numbers = range(1, len(scores) + 1)\n",
        "df_scores = pd.DataFrame({'Fold': fold_numbers, 'Accuracy': scores})\n",
        "\n",
        "fig = px.bar(df_scores, x='Fold', y='Accuracy',\n",
        "             title='Accuracy Scores for Each Fold of Cross-Validation',\n",
        "             labels={'Fold': 'Fold Number', 'Accuracy': 'Accuracy Score'})\n",
        "\n",
        "fig.show()"
      ],
      "metadata": {
        "id": "7OGZP6Qnc0RJ"
      },
      "execution_count": null,
      "outputs": []
    },
    {
      "cell_type": "code",
      "execution_count": null,
      "metadata": {
        "colab": {
          "base_uri": "https://localhost:8080/"
        },
        "id": "rKxB4VEo5KiQ",
        "outputId": "f502cc04-e046-4855-8058-2f9fe247dae2"
      },
      "outputs": [
        {
          "output_type": "stream",
          "name": "stdout",
          "text": [
            "euclidean 657.00833323198\n",
            "manhattan 656.8464646804752\n",
            "minkowski 657.00833323198\n",
            "cosine 656.9618766895911\n"
          ]
        }
      ],
      "source": [
        "X_train = df_clean[['AREA NAME', 'Crm Cd Desc', 'Premis Desc', 'Vict Age', 'Vict Sex']]\n",
        "y_train = df_clean['TIME OCC']\n",
        "\n",
        "col_transformer = make_column_transformer(\n",
        "    (StandardScaler(), ['Vict Age']),\n",
        "    (OneHotEncoder(handle_unknown='ignore'), ['Crm Cd Desc', 'Premis Desc', 'Vict Sex','AREA NAME']),\n",
        "    remainder='passthrough')\n",
        "\n",
        "distances = ['euclidean','manhattan','minkowski','cosine']\n",
        "for distance in distances:\n",
        "  pipeline = make_pipeline(\n",
        "    col_transformer,\n",
        "    KNeighborsRegressor(n_neighbors=20, metric = distance)\n",
        ")\n",
        "\n",
        "  scores = cross_val_score(\n",
        "    pipeline,\n",
        "    X=X_train,\n",
        "    y=y_train,\n",
        "    cv=10,\n",
        "    scoring=\"neg_mean_squared_error\"\n",
        ")\n",
        "\n",
        "  print(distance, np.sqrt(-scores.mean()))"
      ]
    },
    {
      "cell_type": "code",
      "source": [
        "def estimate_test_error(k):\n",
        "  pipeline_knn = make_pipeline(\n",
        "    col_transformer,\n",
        "    KNeighborsRegressor(n_neighbors=k, metric = \"manhattan\")\n",
        "    )\n",
        "  return np.sqrt(-cross_val_score(\n",
        "      pipeline_knn,\n",
        "      X=X_train,\n",
        "      y=y_train,\n",
        "      cv=10,\n",
        "      scoring=\"neg_mean_squared_error\"\n",
        "  ).mean())\n",
        "\n",
        "test_errors = pd.Series([])\n",
        "for x in range(1, 41):\n",
        "  error = estimate_test_error(x)\n",
        "  test_errors[x] = error\n",
        "ideal_k = test_errors.idxmin()\n",
        "ideal_k"
      ],
      "metadata": {
        "id": "flHxhDrEc-xp"
      },
      "execution_count": null,
      "outputs": []
    },
    {
      "cell_type": "code",
      "source": [
        "pipeline = make_pipeline(\n",
        "  col_transformer,\n",
        "  KNeighborsRegressor(n_neighbors=ideal_k, metric=\"manhattan\"))\n",
        "\n",
        "\n",
        "scores = -cross_val_score(\n",
        "    pipeline,\n",
        "    X = X_train,\n",
        "    y = y_train,\n",
        "    scoring=\"neg_mean_squared_error\",\n",
        "    cv=10\n",
        ")\n",
        "\n",
        "scores.mean()\n",
        "\n",
        "fold_numbers = range(1, len(scores) + 1)\n",
        "df_scores = pd.DataFrame({'Fold': fold_numbers, 'Accuracy': scores})\n",
        "\n",
        "fig = px.bar(df_scores, x='Fold', y='Accuracy',\n",
        "             title='Accuracy Scores for Each Fold of Cross-Validation',\n",
        "             labels={'Fold': 'Fold Number', 'Accuracy': 'Accuracy Score'})\n",
        "\n",
        "fig.show()"
      ],
      "metadata": {
        "id": "01wDFDU9c-F9"
      },
      "execution_count": null,
      "outputs": []
    }
  ],
  "metadata": {
    "colab": {
      "provenance": [],
      "include_colab_link": true
    },
    "kernelspec": {
      "display_name": "Python 3",
      "name": "python3"
    },
    "language_info": {
      "name": "python"
    }
  },
  "nbformat": 4,
  "nbformat_minor": 0
}